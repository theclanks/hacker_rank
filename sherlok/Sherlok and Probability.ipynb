{
 "cells": [
  {
   "cell_type": "code",
   "execution_count": 406,
   "metadata": {},
   "outputs": [],
   "source": [
    "import os\n",
    "import sys\n",
    "import random\n",
    "from fractions import Fraction"
   ]
  },
  {
   "cell_type": "code",
   "execution_count": 448,
   "metadata": {},
   "outputs": [],
   "source": [
    "def load_data():\n",
    "    file_p = open(os.path.join(os.getcwd(), \"input\", \"input21.txt\"), 'r')\n",
    "\n",
    "    lines = file_p.readlines()\n",
    "\n",
    "    T = lines[0].strip()\n",
    "    \n",
    "    c = 0\n",
    "    cases = []\n",
    "    for i in range(0,int(T)):\n",
    "        N, K = lines[i+1+c].strip().split()\n",
    "        S = lines[i+2+c].strip()\n",
    "        c = c + int(1)\n",
    "        #print(N,K)\n",
    "        #print(S)\n",
    "        cases.append({'N': N, 'K': K, 'S':S})\n",
    "        #print(\"--\")\n",
    "    \n",
    "    return cases"
   ]
  },
  {
   "cell_type": "code",
   "execution_count": 449,
   "metadata": {},
   "outputs": [],
   "source": [
    "#Brute force\n",
    "def calc_prob(case):\n",
    "    N = int(case['N'])\n",
    "    \n",
    "    p = 0\n",
    "    combs = []\n",
    "    for i in range(1,N+1):\n",
    "        for j in range(1,N+1):\n",
    "            if (case['S'][i-1] == '1' and case['S'][j-1] == '1') and abs(i - j) <= int(case['K']):\n",
    "                if not str(i)+str(j) in combs:\n",
    "                    combs.append(str(i)+str(j))\n",
    "                    p = p + 1\n",
    "    combs.sort()\n",
    "    return str(p)+\"/\"+str(N*N)"
   ]
  },
  {
   "cell_type": "code",
   "execution_count": 450,
   "metadata": {},
   "outputs": [],
   "source": [
    "# Selecao randomica - Nem sempre será o mesmo resultado\n",
    "def calc_probR(case):\n",
    "    N = int(case['N'])\n",
    "    \n",
    "    p = 0\n",
    "    combs = []\n",
    "    for k in range(N*N):\n",
    "        i_r = random.randrange(1,N+1)\n",
    "        j_r = random.randrange(1,N+1)\n",
    "        if (case['S'][i_r-1] == '1' and case['S'][j_r-1] == '1') and abs((i_r) - (j_r)) <= int(case['K']):\n",
    "            if not str(i_r)+str(j_r) in combs:\n",
    "                combs.append(str(i_r)+str(j_r))\n",
    "                p = p + 1\n",
    "    combs.sort()\n",
    "    print(combs)\n",
    "    return str(p)+\"/\"+str(N*N)"
   ]
  },
  {
   "cell_type": "code",
   "execution_count": 451,
   "metadata": {},
   "outputs": [],
   "source": [
    "def write_results(p):\n",
    "\n",
    "    fptr = open(os.path.join(os.getcwd(), \"output\", \"output21.txt\"), 'w')\n",
    "\n",
    "    for t_itr in range(len(p)):\n",
    "        fptr.write(p[t_itr] + '\\n')\n",
    "\n",
    "    fptr.close()"
   ]
  },
  {
   "cell_type": "code",
   "execution_count": 452,
   "metadata": {},
   "outputs": [],
   "source": [
    "def solve():\n",
    "    cases = load_data()\n",
    "    p = []\n",
    "    for c in cases:\n",
    "        p.append(calc_prob(c))\n",
    "        print(p[-1])\n",
    "    write_results(p)"
   ]
  },
  {
   "cell_type": "code",
   "execution_count": 453,
   "metadata": {},
   "outputs": [
    {
     "name": "stdout",
     "output_type": "stream",
     "text": [
      "9/16\n",
      "5/16\n"
     ]
    }
   ],
   "source": [
    "if __name__ == '__main__':\n",
    "    solve()"
   ]
  },
  {
   "cell_type": "code",
   "execution_count": null,
   "metadata": {},
   "outputs": [],
   "source": []
  }
 ],
 "metadata": {
  "kernelspec": {
   "display_name": "Python 3",
   "language": "python",
   "name": "python3"
  },
  "language_info": {
   "codemirror_mode": {
    "name": "ipython",
    "version": 3
   },
   "file_extension": ".py",
   "mimetype": "text/x-python",
   "name": "python",
   "nbconvert_exporter": "python",
   "pygments_lexer": "ipython3",
   "version": "3.6.4"
  }
 },
 "nbformat": 4,
 "nbformat_minor": 2
}
